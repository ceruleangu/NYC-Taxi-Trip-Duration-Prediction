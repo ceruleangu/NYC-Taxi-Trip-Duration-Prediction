{
  "nbformat": 4,
  "nbformat_minor": 0,
  "metadata": {
    "colab": {
      "name": "sklearn.ipynb",
      "provenance": [],
      "collapsed_sections": []
    },
    "kernelspec": {
      "display_name": "Python 3",
      "language": "python",
      "name": "python3"
    },
    "language_info": {
      "codemirror_mode": {
        "name": "ipython",
        "version": 3
      },
      "file_extension": ".py",
      "mimetype": "text/x-python",
      "name": "python",
      "nbconvert_exporter": "python",
      "pygments_lexer": "ipython3",
      "version": "3.6.6"
    }
  },
  "cells": [
    {
      "cell_type": "code",
      "metadata": {
        "colab_type": "code",
        "id": "AHTtYgNO2sCP",
        "colab": {}
      },
      "source": [
        "%matplotlib inline\n",
        "!pip install -U tables\n",
        "import pandas as pd\n",
        "import time\n",
        "import numpy as np\n",
        "import sklearn\n",
        "from sklearn import linear_model\n",
        "import json\n",
        "import matplotlib.pyplot as plt\n",
        "import os\n",
        "from tqdm.notebook import tqdm\n",
        "import mxnet as mx\n",
        "import pandarallel\n",
        "from mxboard import *"
      ],
      "execution_count": 0,
      "outputs": []
    },
    {
      "cell_type": "code",
      "metadata": {
        "colab_type": "code",
        "id": "Oo8seye92yCh",
        "colab": {}
      },
      "source": [
        "#from google.colab import drive\n",
        "#drive.mount('/content/gdrive')\n",
        "seed = 42\n",
        "dataset_root = os.path.expanduser('~/TaxiData')"
      ],
      "execution_count": 0,
      "outputs": []
    },
    {
      "cell_type": "code",
      "metadata": {
        "colab_type": "code",
        "id": "ToGzHK4ILmYo",
        "colab": {}
      },
      "source": [
        "num_samples = 1000000\n",
        "train_indices, test_indices = sklearn.model_selection.train_test_split(np.arange(num_samples))\n",
        "\n",
        "def get_dataset():\n",
        "    dataset = pd.read_hdf(os.path.join(dataset_root, 'data.h5'))\n",
        "    train, test = sklearn.model_selection.train_test_split(dataset, random_state=seed)\n",
        "    train = train.copy()\n",
        "    test=  test.copy()\n",
        "    return train, test"
      ],
      "execution_count": 0,
      "outputs": []
    },
    {
      "cell_type": "code",
      "metadata": {
        "colab_type": "code",
        "id": "81AITdyhLsYt",
        "colab": {}
      },
      "source": [
        "train, test = get_dataset()"
      ],
      "execution_count": 0,
      "outputs": []
    },
    {
      "cell_type": "code",
      "metadata": {
        "id": "8qh1EX2WWD34",
        "colab_type": "code",
        "colab": {}
      },
      "source": [
        "use_numerical_cat = True"
      ],
      "execution_count": 0,
      "outputs": []
    },
    {
      "cell_type": "code",
      "metadata": {
        "id": "qntOhizlWD4C",
        "colab_type": "code",
        "colab": {}
      },
      "source": [
        "category_features = {\n",
        "    'VendorID':(2, 2),\n",
        "    'PULocationID': (265, 30),\n",
        "    'DOLocationID': (265, 30),\n",
        "    'payment_type': (5, 2),\n",
        "    'week': (53, 10),\n",
        "    'dayofweek': (7, 3),\n",
        "    'quarterofday': (96, 20)\n",
        "}\n",
        "exclude = ['tpep_pickup_datetime', 'tpep_dropoff_datetime'] #+ list(category_features.keys())\n",
        "columns = [c for c in train.columns if c not in exclude]\n",
        "#columns += list(category_features.keys())"
      ],
      "execution_count": 0,
      "outputs": []
    },
    {
      "cell_type": "code",
      "metadata": {
        "colab_type": "code",
        "id": "2ZA1dU3mMT6J",
        "colab": {}
      },
      "source": [
        "train_pickup_counts = {i: 0 for i in range(1, 266)}\n",
        "train_dropoff_counts = {i: 0 for i in range(1, 266)}\n",
        "train_pickup_counts.update(train['PULocationID'].value_counts().to_dict())\n",
        "train_dropoff_counts.update(train['DOLocationID'].value_counts().to_dict())\n",
        "\n",
        "def get_pickup_dropoff_count(pu_map, do_map):\n",
        "    def func(x):\n",
        "      return pu_map[x['PULocationID']], do_map[x['DOLocationID']]\n",
        "    return func"
      ],
      "execution_count": 0,
      "outputs": []
    },
    {
      "cell_type": "code",
      "metadata": {
        "colab_type": "code",
        "id": "cnptGjqC22ku",
        "colab": {}
      },
      "source": [
        "def get_date(df):\n",
        "    df['week'] = df['tpep_pickup_datetime'].dt.weekofyear\n",
        "    df['dayofweek'] = df['tpep_pickup_datetime'].dt.dayofweek\n",
        "    df['quarterofday'] = df['tpep_pickup_datetime'].dt.hour * 4 + df['tpep_pickup_datetime'].dt.quarter\n",
        "    df['duration'] = (df['tpep_dropoff_datetime'] - df['tpep_pickup_datetime']).dt.total_seconds()\n",
        "    df.drop(columns=['tpep_dropoff_datetime', 'tpep_pickup_datetime'], inplace=True)"
      ],
      "execution_count": 0,
      "outputs": []
    },
    {
      "cell_type": "code",
      "metadata": {
        "colab_type": "code",
        "id": "FGajmT_55UZj",
        "colab": {}
      },
      "source": [
        "def haversine_array(lat1, lng1, lat2, lng2):\n",
        "    lat1, lng1, lat2, lng2 = map(np.radians, (lat1, lng1, lat2, lng2))\n",
        "    AVG_EARTH_RADIUS = 6371  # in km\n",
        "    lat = lat2 - lat1\n",
        "    lng = lng2 - lng1\n",
        "    d = np.sin(lat * 0.5) ** 2 + np.cos(lat1) * np.cos(lat2) * np.sin(lng * 0.5) ** 2\n",
        "    h = 2 * AVG_EARTH_RADIUS * np.arcsin(np.sqrt(d))\n",
        "    return h\n",
        "\n",
        "def dummy_manhattan_distance(lat1, lng1, lat2, lng2):\n",
        "    a = haversine_array(lat1, lng1, lat1, lng2)\n",
        "    b = haversine_array(lat1, lng1, lat2, lng1)\n",
        "    return a + b\n",
        "\n",
        "def bearing_array(lat1, lng1, lat2, lng2):\n",
        "    AVG_EARTH_RADIUS = 6371  # in km\n",
        "    lng_delta_rad = np.radians(lng2 - lng1)\n",
        "    lat1, lng1, lat2, lng2 = map(np.radians, (lat1, lng1, lat2, lng2))\n",
        "    y = np.sin(lng_delta_rad) * np.cos(lat2)\n",
        "    x = np.cos(lat1) * np.sin(lat2) - np.sin(lat1) * np.cos(lat2) * np.cos(lng_delta_rad)\n",
        "    return np.degrees(np.arctan2(y, x))"
      ],
      "execution_count": 0,
      "outputs": []
    },
    {
      "cell_type": "code",
      "metadata": {
        "id": "S5BELf7FWD4T",
        "colab_type": "code",
        "colab": {}
      },
      "source": [
        ""
      ],
      "execution_count": 0,
      "outputs": []
    },
    {
      "cell_type": "code",
      "metadata": {
        "colab_type": "code",
        "id": "3MJ_ZsN35wUy",
        "colab": {}
      },
      "source": [
        "def preprocess(df, drop_outlier):\n",
        "    get_date(df)\n",
        "    df['direction'] = bearing_array(df['PULocationX'].values, df['PULocationY'].values, df['DOLocationX'].values, df['DOLocationY'].values)\n",
        "    df['distance_haversine'] = haversine_array(df['PULocationX'].values, df['PULocationY'].values, df['DOLocationX'].values, df['DOLocationY'].values)\n",
        "    df['distance_dummy_manhattan'] = dummy_manhattan_distance(df['PULocationX'].values, df['PULocationY'].values, df['DOLocationX'].values, df['DOLocationY'].values)\n",
        "    if drop_outlier:\n",
        "        df.drop(df.loc[df['duration'] > 8*3600].index, inplace=True) # drop > 8 hours\n",
        "    #df['pickup_loc_count'], df['dropoff_loc_count'] = zip(*df.parallel_apply(get_pickup_dropoff_count(train_pickup_counts, train_dropoff_counts), axis=1))\n",
        "    dtype = 'float32'\n",
        "    duration = df['duration'].to_numpy(dtype=dtype)\n",
        "    # cats = [df[category_feature].to_numpy(dtype=dtype) for category_feature in category_features.keys()]\n",
        "    conds = df[columns].to_numpy(dtype=dtype)\n",
        "    return conds, duration"
      ],
      "execution_count": 0,
      "outputs": []
    },
    {
      "cell_type": "code",
      "metadata": {
        "colab_type": "code",
        "id": "PQcGlcSECpTm",
        "colab": {}
      },
      "source": [
        "train_data, train_labels = preprocess(train, True)\n",
        "test_data, test_labels = preprocess(test, True)"
      ],
      "execution_count": 0,
      "outputs": []
    },
    {
      "cell_type": "code",
      "metadata": {
        "colab_type": "code",
        "id": "iTHlAlUSg34A",
        "colab": {}
      },
      "source": [
        "y_range = train['duration'].max()\n",
        "y_range"
      ],
      "execution_count": 0,
      "outputs": []
    },
    {
      "cell_type": "code",
      "metadata": {
        "id": "B1_5JG6TWD5C",
        "colab_type": "code",
        "colab": {}
      },
      "source": [
        "del train\n",
        "del test"
      ],
      "execution_count": 0,
      "outputs": []
    },
    {
      "cell_type": "code",
      "metadata": {
        "id": "MNcpB1UXWD5E",
        "colab_type": "code",
        "colab": {}
      },
      "source": [
        "from sklearn.metrics import mean_absolute_error"
      ],
      "execution_count": 0,
      "outputs": []
    },
    {
      "cell_type": "code",
      "metadata": {
        "id": "J0mnb0iXWD5H",
        "colab_type": "code",
        "colab": {}
      },
      "source": [
        "def fit_and_test(model, X, y, metric=mean_absolute_error):\n",
        "    '''\n",
        "    Fit the model and test the performance on the training set\n",
        "    '''\n",
        "    model.fit(X, y)\n",
        "    y_pred = model.predict(X)\n",
        "    print(type(model))\n",
        "    print(metric(y, y_pred))\n",
        "    return model\n",
        "\n",
        "def test(model, X_test, y_test, metric=mean_absolute_error):\n",
        "    y_pred = model.predict(X_test)\n",
        "    y_pred = np.maximum(y_pred, 1.)\n",
        "    ret = metric(y_test, y_pred)\n",
        "    # print(ret)\n",
        "    return ret"
      ],
      "execution_count": 0,
      "outputs": []
    },
    {
      "cell_type": "code",
      "metadata": {
        "id": "g5aNTODxWD5U",
        "colab_type": "code",
        "colab": {}
      },
      "source": [
        "linear_reg = fit_and_test(sklearn.linear_model.LinearRegression(), train_data, train_labels)"
      ],
      "execution_count": 0,
      "outputs": []
    },
    {
      "cell_type": "code",
      "metadata": {
        "id": "zTzNvVhXWD5Z",
        "colab_type": "code",
        "colab": {}
      },
      "source": [
        "train_pred = linear_reg.predict(train_data)\n",
        "test_pred = linear_reg.predict(test_data)\n",
        "import pickle\n",
        "pickle.dump(train_pred, open('train_pred_lr.pkl','wb'))\n",
        "pickle.dump(test_pred, open('test_pred_lr.pkl','wb'))"
      ],
      "execution_count": 0,
      "outputs": []
    },
    {
      "cell_type": "code",
      "metadata": {
        "id": "1LUYl9hxWD5b",
        "colab_type": "code",
        "colab": {}
      },
      "source": [
        "print('mae', test(linear_reg, test_data, test_labels))\n",
        "print('rmse', np.sqrt(test(linear_reg, test_data, test_labels, sklearn.metrics.mean_squared_error)))\n",
        "print('rmsle', np.sqrt(test(linear_reg, test_data, test_labels, sklearn.metrics.mean_squared_log_error)))"
      ],
      "execution_count": 0,
      "outputs": []
    },
    {
      "cell_type": "code",
      "metadata": {
        "id": "PpIzOLnUWD5d",
        "colab_type": "code",
        "colab": {}
      },
      "source": [
        "np.sqrt(398986.7)"
      ],
      "execution_count": 0,
      "outputs": []
    },
    {
      "cell_type": "code",
      "metadata": {
        "id": "5JzUP0kfWD5g",
        "colab_type": "code",
        "colab": {}
      },
      "source": [
        ""
      ],
      "execution_count": 0,
      "outputs": []
    },
    {
      "cell_type": "code",
      "metadata": {
        "id": "WJAyM75CWD5j",
        "colab_type": "code",
        "colab": {}
      },
      "source": [
        "#import xgboost\n",
        "#xgb_reg = fit_and_test(xgboost.XGBRegressor(), train_data, train_labels)"
      ],
      "execution_count": 0,
      "outputs": []
    },
    {
      "cell_type": "code",
      "metadata": {
        "id": "4IguekVXWD5k",
        "colab_type": "code",
        "colab": {}
      },
      "source": [
        "import scipy\n",
        "(test_labels - train_labels.mean()).mean() * 3600"
      ],
      "execution_count": 0,
      "outputs": []
    },
    {
      "cell_type": "code",
      "metadata": {
        "id": "VAcGV2xHWD5m",
        "colab_type": "code",
        "colab": {}
      },
      "source": [
        "import sklearn.datasets\n",
        "#sklearn.datasets.dump_svmlight_file(train_data, train_labels, './numerical/train.txt')\n",
        "#sklearn.datasets.dump_svmlight_file(test_data, test_labels, './numerical/test.txt')"
      ],
      "execution_count": 0,
      "outputs": []
    },
    {
      "cell_type": "code",
      "metadata": {
        "id": "5eRVzNl2WD5o",
        "colab_type": "code",
        "colab": {}
      },
      "source": [
        ""
      ],
      "execution_count": 0,
      "outputs": []
    },
    {
      "cell_type": "code",
      "metadata": {
        "id": "5BXpU8sgWD5r",
        "colab_type": "code",
        "colab": {}
      },
      "source": [
        "# onehot encoding"
      ],
      "execution_count": 0,
      "outputs": []
    },
    {
      "cell_type": "code",
      "metadata": {
        "id": "lbV2oFvgWD5t",
        "colab_type": "code",
        "colab": {}
      },
      "source": [
        "#onehot_proc = sklearn.preprocessing.OneHotEncoder(n_values=[in_dim for (in_dim, _) in category_features.values()])\n",
        "#from sklearn.compose import ColumnTransformer\n",
        "#ct = ColumnTransformer([('onehot', onehot_proc, list(range(len(columns) - len(category_features), len(columns))))], sparse_threshold=1.0, remainder='passthrough')\n",
        "#train_data = ct.fit_transform(train_data)\n",
        "#test_data = ct.fit_transform(test_data)"
      ],
      "execution_count": 0,
      "outputs": []
    },
    {
      "cell_type": "code",
      "metadata": {
        "id": "bhjVv9KJWD5x",
        "colab_type": "code",
        "colab": {}
      },
      "source": [
        ""
      ],
      "execution_count": 0,
      "outputs": []
    },
    {
      "cell_type": "code",
      "metadata": {
        "id": "g8mL-dpMWD5z",
        "colab_type": "code",
        "colab": {}
      },
      "source": [
        ""
      ],
      "execution_count": 0,
      "outputs": []
    },
    {
      "cell_type": "code",
      "metadata": {
        "id": "by10y9FVWD51",
        "colab_type": "code",
        "colab": {}
      },
      "source": [
        ""
      ],
      "execution_count": 0,
      "outputs": []
    },
    {
      "cell_type": "code",
      "metadata": {
        "id": "H64JYKrzWD52",
        "colab_type": "code",
        "colab": {}
      },
      "source": [
        "#import sklearn.datasets\n",
        "#sklearn.datasets.dump_svmlight_file(train_data, train_labels, './onehot/train.txt')\n",
        "#sklearn.datasets.dump_svmlight_file(test_data, test_labels, './onehot/test.txt')"
      ],
      "execution_count": 0,
      "outputs": []
    },
    {
      "cell_type": "code",
      "metadata": {
        "id": "NLLwWKj7WD54",
        "colab_type": "code",
        "colab": {}
      },
      "source": [
        "import sklearn.ensemble\n",
        "rfr = fit_and_test(sklearn.ensemble.RandomForestRegressor(n_estimators=32, n_jobs=1, max_depth=15), train_data, train_labels)"
      ],
      "execution_count": 0,
      "outputs": []
    },
    {
      "cell_type": "code",
      "metadata": {
        "id": "x2MOh73xWD56",
        "colab_type": "code",
        "colab": {}
      },
      "source": [
        "sklearn.__version__"
      ],
      "execution_count": 0,
      "outputs": []
    },
    {
      "cell_type": "markdown",
      "metadata": {
        "id": "uKpdskNzWD57",
        "colab_type": "raw"
      },
      "source": [
        ""
      ]
    },
    {
      "cell_type": "code",
      "metadata": {
        "id": "BUX9JvfWWD59",
        "colab_type": "code",
        "colab": {}
      },
      "source": [
        "print('mae', test(rfr, test_data, test_labels))\n",
        "print('rmse', np.sqrt(test(rfr, test_data, test_labels, sklearn.metrics.mean_squared_error)))\n",
        "print('rmsle', np.sqrt(test(rfr, test_data, test_labels, sklearn.metrics.mean_squared_log_error)))"
      ],
      "execution_count": 0,
      "outputs": []
    },
    {
      "cell_type": "code",
      "metadata": {
        "id": "pwBYOV4GWD6B",
        "colab_type": "code",
        "colab": {}
      },
      "source": [
        "print('mae', test(rfr, train_data, train_labels))\n",
        "print('rmse', np.sqrt(test(rfr, train_data, train_labels, sklearn.metrics.mean_squared_error)))\n",
        "print('rmsle', np.sqrt(test(rfr, train_data, train_labels, sklearn.metrics.mean_squared_log_error)))"
      ],
      "execution_count": 0,
      "outputs": []
    },
    {
      "cell_type": "code",
      "metadata": {
        "id": "EIMFDjj9WD6C",
        "colab_type": "code",
        "colab": {}
      },
      "source": [
        "train_pred = rfr.predict(train_data)\n",
        "test_pred = rfr.predict(test_data)"
      ],
      "execution_count": 0,
      "outputs": []
    },
    {
      "cell_type": "code",
      "metadata": {
        "id": "vxa4gffgWD6E",
        "colab_type": "code",
        "colab": {}
      },
      "source": [
        "#import pickle\n",
        "#pickle.dump(rfr,open('random_forest_reg.pkl','wb')) "
      ],
      "execution_count": 0,
      "outputs": []
    },
    {
      "cell_type": "code",
      "metadata": {
        "id": "-Kvk60LqWD6F",
        "colab_type": "code",
        "colab": {}
      },
      "source": [
        "import xgboost as xgb\n",
        "\n",
        "model_path = './numerical/0099.model'\n",
        "test_data_path = './xgb/test.txt'\n",
        "dtrain = xgb.DMatrix(train_data)"
      ],
      "execution_count": 0,
      "outputs": []
    },
    {
      "cell_type": "code",
      "metadata": {
        "id": "Rv1jbu0BWD6G",
        "colab_type": "code",
        "colab": {}
      },
      "source": [
        "import xgboost as xgb"
      ],
      "execution_count": 0,
      "outputs": []
    },
    {
      "cell_type": "code",
      "metadata": {
        "id": "98Kts7S4WD6I",
        "colab_type": "code",
        "colab": {}
      },
      "source": [
        "bst = xgb.Booster(model_file='./numerical/0099.model')"
      ],
      "execution_count": 0,
      "outputs": []
    },
    {
      "cell_type": "code",
      "metadata": {
        "id": "h2VM3I82WD6J",
        "colab_type": "code",
        "colab": {}
      },
      "source": [
        "test_pred = bst.predict(xgb.DMatrix('./numerical/test.txt#dest1.cache'))"
      ],
      "execution_count": 0,
      "outputs": []
    },
    {
      "cell_type": "code",
      "metadata": {
        "id": "izQ6tIe7WD6M",
        "colab_type": "code",
        "colab": {}
      },
      "source": [
        "np.sqrt(((test_labels - test_pred)**2).mean())"
      ],
      "execution_count": 0,
      "outputs": []
    },
    {
      "cell_type": "code",
      "metadata": {
        "id": "BjcvtBeOWD6O",
        "colab_type": "code",
        "colab": {}
      },
      "source": [
        "import pickle\n",
        "pickle.dump(train_pred, open('xgb_train_pred.pkl', 'wb'))"
      ],
      "execution_count": 0,
      "outputs": []
    },
    {
      "cell_type": "code",
      "metadata": {
        "id": "xDX64uabWD6R",
        "colab_type": "code",
        "colab": {}
      },
      "source": [
        "f = open('xgb_train_pred.pkl', 'rb')\n",
        "print(f)\n",
        "X1 = pickle.load(f)\n",
        "X2 = open('rfr_train_pred.pkl', 'rb')\n",
        "X2 = pickle.load(X2)\n",
        "X3 = open('xgb_test_pred.pkl','rb')\n",
        "X3 = pickle.load(X3)\n",
        "X4 = open('rfr_test_pred.pkl','rb')\n",
        "X4 = pickle.load(X4)"
      ],
      "execution_count": 0,
      "outputs": []
    },
    {
      "cell_type": "code",
      "metadata": {
        "id": "kaYUnaQAWD6T",
        "colab_type": "code",
        "colab": {}
      },
      "source": [
        "X5 = pickle.load(open('train_pred_lr.pkl','rb'))\n",
        "X6 = pickle.load(open('test_pred_lr.pkl','rb'))"
      ],
      "execution_count": 0,
      "outputs": []
    },
    {
      "cell_type": "code",
      "metadata": {
        "id": "Q2n8KN89WD6W",
        "colab_type": "code",
        "colab": {}
      },
      "source": [
        "X_tr1 = np.array([X1,X2,X5]).T"
      ],
      "execution_count": 0,
      "outputs": []
    },
    {
      "cell_type": "code",
      "metadata": {
        "id": "f2wIXQZgWD6e",
        "colab_type": "code",
        "colab": {}
      },
      "source": [
        "X_te1 = np.array([X3,X4,X6]).T"
      ],
      "execution_count": 0,
      "outputs": []
    },
    {
      "cell_type": "code",
      "metadata": {
        "id": "qc6VpojsWD6f",
        "colab_type": "code",
        "colab": {}
      },
      "source": [
        "linear_b = fit_and_test(sklearn.linear_model.LinearRegression(), X_tr, train_labels)"
      ],
      "execution_count": 0,
      "outputs": []
    },
    {
      "cell_type": "code",
      "metadata": {
        "id": "rVWDH4qKWD6g",
        "colab_type": "code",
        "colab": {}
      },
      "source": [
        "test(linear_b, X_te, test_labels)"
      ],
      "execution_count": 0,
      "outputs": []
    },
    {
      "cell_type": "code",
      "metadata": {
        "id": "jr7jNEONWD6i",
        "colab_type": "code",
        "colab": {}
      },
      "source": [
        "linear_b1 = fit_and_test(sklearn.linear_model.LinearRegression(), X_tr1, train_labels)"
      ],
      "execution_count": 0,
      "outputs": []
    },
    {
      "cell_type": "code",
      "metadata": {
        "id": "OmDtMFbLWD6m",
        "colab_type": "code",
        "colab": {}
      },
      "source": [
        "test(linear_b1,X_te1,test_labels)"
      ],
      "execution_count": 0,
      "outputs": []
    },
    {
      "cell_type": "code",
      "metadata": {
        "id": "Lmx6-rQdWD6q",
        "colab_type": "code",
        "colab": {}
      },
      "source": [
        "np.sqrt(test(linear_b1,X_te1,test_labels,sklearn.metrics.mean_squared_error))"
      ],
      "execution_count": 0,
      "outputs": []
    }
  ]
}