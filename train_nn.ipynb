{
  "nbformat": 4,
  "nbformat_minor": 0,
  "metadata": {
    "colab": {
      "name": "train.ipynb",
      "provenance": [],
      "collapsed_sections": []
    },
    "kernelspec": {
      "display_name": "Python 3",
      "language": "python",
      "name": "python3"
    },
    "language_info": {
      "codemirror_mode": {
        "name": "ipython",
        "version": 3
      },
      "file_extension": ".py",
      "mimetype": "text/x-python",
      "name": "python",
      "nbconvert_exporter": "python",
      "pygments_lexer": "ipython3",
      "version": "3.6.6"
    }
  },
  "cells": [
    {
      "cell_type": "code",
      "metadata": {
        "colab_type": "code",
        "id": "AHTtYgNO2sCP",
        "outputId": "58b8bf22-6d8d-4059-c893-53eeedceff43",
        "colab": {
          "base_uri": "https://localhost:8080/",
          "height": 224
        }
      },
      "source": [
        "%matplotlib inline\n",
        "!pip install -U tables\n",
        "import pandas as pd\n",
        "import time\n",
        "import numpy as np\n",
        "import sklearn\n",
        "from sklearn import linear_model\n",
        "import json\n",
        "import matplotlib.pyplot as plt\n",
        "import os\n",
        "from tqdm.notebook import tqdm\n",
        "import mxnet as mx\n",
        "import pandarallel\n",
        "from mxboard import *"
      ],
      "execution_count": 0,
      "outputs": [
        {
          "output_type": "stream",
          "text": [
            "Requirement already up-to-date: tables in /home/ubuntu/anaconda3/lib/python3.6/site-packages (3.6.1)\n",
            "Requirement already satisfied, skipping upgrade: numexpr>=2.6.2 in /home/ubuntu/anaconda3/lib/python3.6/site-packages (from tables) (2.7.0)\n",
            "Requirement already satisfied, skipping upgrade: numpy>=1.9.3 in /home/ubuntu/anaconda3/lib/python3.6/site-packages (from tables) (1.16.4)\n"
          ],
          "name": "stdout"
        }
      ]
    },
    {
      "cell_type": "code",
      "metadata": {
        "colab_type": "code",
        "id": "Oo8seye92yCh",
        "colab": {}
      },
      "source": [
        "#from google.colab import drive\n",
        "#drive.mount('/content/gdrive')\n",
        "seed = 42\n",
        "dataset_root = os.path.expanduser('~/TaxiData')"
      ],
      "execution_count": 0,
      "outputs": []
    },
    {
      "cell_type": "code",
      "metadata": {
        "colab_type": "code",
        "id": "ToGzHK4ILmYo",
        "colab": {}
      },
      "source": [
        "#num_samples = 1000000\n",
        "#train_indices, test_indices = sklearn.model_selection.train_test_split(np.arange(num_samples))\n",
        "\n",
        "def get_dataset():\n",
        "    dataset = pd.read_hdf(os.path.join(dataset_root, 'data.h5'))\n",
        "    train, test = sklearn.model_selection.train_test_split(dataset, random_state=seed)\n",
        "    train = train.copy()\n",
        "    test=  test.copy()\n",
        "    return train, test"
      ],
      "execution_count": 0,
      "outputs": []
    },
    {
      "cell_type": "code",
      "metadata": {
        "colab_type": "code",
        "id": "81AITdyhLsYt",
        "colab": {}
      },
      "source": [
        "train, test = get_dataset()"
      ],
      "execution_count": 0,
      "outputs": []
    },
    {
      "cell_type": "code",
      "metadata": {
        "id": "I9C0Y1GNWQRX",
        "colab_type": "code",
        "colab": {}
      },
      "source": [
        "category_features = {\n",
        "    'VendorID':(2, 2),\n",
        "    'PULocationID': (265, 20),\n",
        "    'DOLocationID': (265, 20),\n",
        "    'payment_type': (5, 2),\n",
        "    'week': (53, 10),\n",
        "    'dayofweek': (7, 10),\n",
        "    'quarterofday': (96, 10)\n",
        "}\n",
        "exclude = ['tpep_pickup_datetime', 'tpep_dropoff_datetime'] + list(category_features.keys())\n",
        "columns = [c for c in train.columns if c not in exclude]"
      ],
      "execution_count": 0,
      "outputs": []
    },
    {
      "cell_type": "code",
      "metadata": {
        "colab_type": "code",
        "id": "2ZA1dU3mMT6J",
        "colab": {}
      },
      "source": [
        "train_pickup_counts = {i: 0 for i in range(1, 266)}\n",
        "train_dropoff_counts = {i: 0 for i in range(1, 266)}\n",
        "train_pickup_counts.update(train['PULocationID'].value_counts().to_dict())\n",
        "train_dropoff_counts.update(train['DOLocationID'].value_counts().to_dict())\n",
        "\n",
        "def get_pickup_dropoff_count(pu_map, do_map):\n",
        "    def func(x):\n",
        "      return pu_map[x['PULocationID']], do_map[x['DOLocationID']]\n",
        "    return func"
      ],
      "execution_count": 0,
      "outputs": []
    },
    {
      "cell_type": "code",
      "metadata": {
        "colab_type": "code",
        "id": "cnptGjqC22ku",
        "colab": {}
      },
      "source": [
        "def get_date(df):\n",
        "    df['week'] = df['tpep_pickup_datetime'].dt.weekofyear\n",
        "    df['dayofweek'] = df['tpep_pickup_datetime'].dt.dayofweek\n",
        "    df['quarterofday'] = df['tpep_pickup_datetime'].dt.hour * 4 + df['tpep_pickup_datetime'].dt.quarter\n",
        "    df['duration'] = (df['tpep_dropoff_datetime'] - df['tpep_pickup_datetime']).dt.total_seconds() / 3600\n",
        "    df.drop(columns=['tpep_dropoff_datetime', 'tpep_pickup_datetime'], inplace=True)"
      ],
      "execution_count": 0,
      "outputs": []
    },
    {
      "cell_type": "code",
      "metadata": {
        "colab_type": "code",
        "id": "FGajmT_55UZj",
        "colab": {}
      },
      "source": [
        "def haversine_array(lat1, lng1, lat2, lng2):\n",
        "    lat1, lng1, lat2, lng2 = map(np.radians, (lat1, lng1, lat2, lng2))\n",
        "    AVG_EARTH_RADIUS = 6371  # in km\n",
        "    lat = lat2 - lat1\n",
        "    lng = lng2 - lng1\n",
        "    d = np.sin(lat * 0.5) ** 2 + np.cos(lat1) * np.cos(lat2) * np.sin(lng * 0.5) ** 2\n",
        "    h = 2 * AVG_EARTH_RADIUS * np.arcsin(np.sqrt(d))\n",
        "    return h\n",
        "\n",
        "def dummy_manhattan_distance(lat1, lng1, lat2, lng2):\n",
        "    a = haversine_array(lat1, lng1, lat1, lng2)\n",
        "    b = haversine_array(lat1, lng1, lat2, lng1)\n",
        "    return a + b\n",
        "\n",
        "def bearing_array(lat1, lng1, lat2, lng2):\n",
        "    AVG_EARTH_RADIUS = 6371  # in km\n",
        "    lng_delta_rad = np.radians(lng2 - lng1)\n",
        "    lat1, lng1, lat2, lng2 = map(np.radians, (lat1, lng1, lat2, lng2))\n",
        "    y = np.sin(lng_delta_rad) * np.cos(lat2)\n",
        "    x = np.cos(lat1) * np.sin(lat2) - np.sin(lat1) * np.cos(lat2) * np.cos(lng_delta_rad)\n",
        "    return np.degrees(np.arctan2(y, x))"
      ],
      "execution_count": 0,
      "outputs": []
    },
    {
      "cell_type": "code",
      "metadata": {
        "colab_type": "code",
        "id": "3MJ_ZsN35wUy",
        "colab": {}
      },
      "source": [
        "def preprocess(df):\n",
        "    get_date(df)\n",
        "    df['direction'] = bearing_array(df['PULocationX'].values, df['PULocationY'].values, df['DOLocationX'].values, df['DOLocationY'].values)\n",
        "    df['distance_haversine'] = haversine_array(df['PULocationX'].values, df['PULocationY'].values, df['DOLocationX'].values, df['DOLocationY'].values)\n",
        "    df['distance_dummy_manhattan'] = dummy_manhattan_distance(df['PULocationX'].values, df['PULocationY'].values, df['DOLocationX'].values, df['DOLocationY'].values)\n",
        "    df.drop(df.loc[df['duration'] > 8].index, inplace=True) # drop > 8 hours\n",
        "    #df['pickup_loc_count'], df['dropoff_loc_count'] = zip(*df.parallel_apply(get_pickup_dropoff_count(train_pickup_counts, train_dropoff_counts), axis=1))\n",
        "    dtype = 'float32'\n",
        "    duration = df['duration'].to_numpy(dtype=dtype)\n",
        "    cats = [df[category_feature].to_numpy(dtype=dtype) for category_feature in category_features.keys()]\n",
        "    conds = df[columns].to_numpy(dtype=dtype)\n",
        "    return [conds, *cats], duration"
      ],
      "execution_count": 0,
      "outputs": []
    },
    {
      "cell_type": "code",
      "metadata": {
        "colab_type": "code",
        "id": "PQcGlcSECpTm",
        "colab": {}
      },
      "source": [
        "train_data, train_labels = preprocess(train)\n",
        "test_data, test_labels = preprocess(test)"
      ],
      "execution_count": 0,
      "outputs": []
    },
    {
      "cell_type": "code",
      "metadata": {
        "colab_type": "code",
        "id": "iTHlAlUSg34A",
        "colab": {},
        "outputId": "8c8399d0-131e-4145-e261-229a3b1024cb"
      },
      "source": [
        "y_range = train['duration'].max()\n",
        "y_range"
      ],
      "execution_count": 0,
      "outputs": [
        {
          "output_type": "execute_result",
          "data": {
            "text/plain": [
              "7.999722222222222"
            ]
          },
          "metadata": {
            "tags": []
          },
          "execution_count": 12
        }
      ]
    },
    {
      "cell_type": "code",
      "metadata": {
        "id": "8HtvgiSuWQSH",
        "colab_type": "code",
        "colab": {}
      },
      "source": [
        "del train\n",
        "del test"
      ],
      "execution_count": 0,
      "outputs": []
    },
    {
      "cell_type": "code",
      "metadata": {
        "colab_type": "code",
        "id": "6kThoZsU99yx",
        "colab": {}
      },
      "source": [
        "import mxnet as mx\n",
        "import mxnet.gluon.nn as nn"
      ],
      "execution_count": 0,
      "outputs": []
    },
    {
      "cell_type": "code",
      "metadata": {
        "colab_type": "code",
        "id": "DeSKZzWg-ORP",
        "colab": {}
      },
      "source": [
        "class OneHotNet(nn.Block):\n",
        "    def __init__(self, **kwargs):\n",
        "        # Run `nn.Block`'s init method\n",
        "        super(OneHotNet, self).__init__(**kwargs)\n",
        "        '''\n",
        "        self.blk = nn.Sequential()\n",
        "        self.blk.add(       \n",
        "                    #nn.Dense(300, use_bias=True),\n",
        "                    #nn.BatchNorm(),         \n",
        "                    #nn.Activation('relu'),\n",
        "                    nn.Dense(50, use_bias=True),\n",
        "                    nn.BatchNorm(),\n",
        "                    nn.Activation('relu')\n",
        "            )\n",
        "        '''\n",
        "        self.dense = nn.Dense(1, use_bias=True)\n",
        "        self.relu= nn.Activation('relu')\n",
        "    def forward(self, conds, *cats):\n",
        "        cat_feats = []\n",
        "        for cat, (depth, _) in zip(cats, category_features.values()):\n",
        "            cat_feats.append(mx.nd.expand_dims(cat,axis=1))\n",
        "            # cat_feats.append(mx.nd.one_hot(cat - 1, depth=depth))\n",
        "        # feat = mx.nd.concat(conds, *cat_feats)\n",
        "        # y = self.blk(feat)\n",
        "        y = conds\n",
        "        y = self.dense(y)\n",
        "        y = self.relu(y)\n",
        "        return y\n",
        "    \n",
        "class Net(nn.Block):\n",
        "    def __init__(self, **kwargs):\n",
        "        # Run `nn.Block`'s init method\n",
        "        super(Net, self).__init__(**kwargs)\n",
        "        self.cat_embeddings = []\n",
        "        for feat_name, (in_dim, out_dim) in category_features.items():\n",
        "            self.cat_embeddings.append(nn.Embedding(in_dim, out_dim))\n",
        "            self.register_child(self.cat_embeddings[-1], feat_name)\n",
        "        self.concat_bn_relu = nn.Sequential()\n",
        "        self.concat_bn_relu.add(nn.BatchNorm(), nn.Activation('relu'))\n",
        "     \n",
        "        self.cond_dense = nn.Sequential()\n",
        "        self.cond_dense.add(\n",
        "            nn.Dense(100, use_bias=True), \n",
        "            nn.BatchNorm(), \n",
        "            nn.Activation('relu'))\n",
        "        self.blk = nn.Sequential()\n",
        "        self.blk.add(\n",
        "            nn.Dense(300, use_bias=True),\n",
        "            nn.BatchNorm(),         \n",
        "            nn.Activation('relu')\n",
        "            #nn.Dense(50, use_bias=True),\n",
        "            #nn.BatchNorm(),\n",
        "            #nn.Activation('relu')\n",
        "                     )\n",
        "        self.dense = nn.Dense(1)\n",
        "        self.relu= nn.Activation('relu')\n",
        "        \n",
        "    def forward(self, conds, *cats):\n",
        "        cat_feats = [self.cat_embeddings[i](cats[i]) for i in range(len(category_features))]\n",
        "        cond_feat = self.cond_dense(conds)\n",
        "        cat_feats = mx.nd.concat(*cat_feats)\n",
        "        cat_feats = self.concat_bn_relu(cat_feats)\n",
        "        feat = mx.nd.concat(cond_feat, cat_feats)\n",
        "        # feat = cond_feat\n",
        "        y = self.blk(feat)\n",
        "        y = self.dense(y)\n",
        "        y = self.relu(y)\n",
        "        return y"
      ],
      "execution_count": 0,
      "outputs": []
    },
    {
      "cell_type": "code",
      "metadata": {
        "colab_type": "code",
        "id": "Sn3AhfBgIIA9",
        "colab": {}
      },
      "source": [
        "#ds = PandasDataset(train)\n",
        "#ds = ds.transform(preprocess)\n",
        "train_dataset = mx.gluon.data.ArrayDataset(*train_data, train_labels)\n",
        "test_dataset = mx.gluon.data.ArrayDataset(*test_data, test_labels)"
      ],
      "execution_count": 0,
      "outputs": []
    },
    {
      "cell_type": "code",
      "metadata": {
        "id": "a5y6tVrVWQSX",
        "colab_type": "code",
        "colab": {}
      },
      "source": [
        "batch_size = 64\n",
        "train_loader = mx.gluon.data.DataLoader(train_dataset, batch_size=batch_size)\n",
        "test_loader = mx.gluon.data.DataLoader(test_dataset, batch_size=batch_size, last_batch='keep')"
      ],
      "execution_count": 0,
      "outputs": []
    },
    {
      "cell_type": "code",
      "metadata": {
        "colab_type": "code",
        "id": "MOEs0VGC-pWS",
        "outputId": "0a56c30e-e12a-49b4-8b1c-1246b39371e5",
        "colab": {
          "base_uri": "https://localhost:8080/",
          "height": 1000,
          "referenced_widgets": [
            "f32fece70a4e46039cb2927d5d4e9b27"
          ]
        }
      },
      "source": [
        "import numpy as np\n",
        "net = Net()\n",
        "net.initialize(init=mx.init.Xavier())\n",
        "sw = SummaryWriter(logdir='./logs/today')\n",
        "trainer = mx.gluon.Trainer(net.collect_params(), 'rmsprop', {'learning_rate': 0.001})\n",
        "l2_loss = mx.gluon.loss.L2Loss()\n",
        "huber_loss = mx.gluon.loss.HuberLoss(rho=0.7)\n",
        "global_step = 0\n",
        "for epoch in range(10):\n",
        "    train_loss, train_acc, valid_acc = 0., 0., 0.\n",
        "    tic = time.time()\n",
        "    train_loader.reset()\n",
        "    test_loader.reset()\n",
        "    num_batches = len(train_loader)\n",
        "    mean_mae = []\n",
        "    for i, batch in enumerate(tqdm(train_loader)):\n",
        "        # forward + backward\n",
        "        with mx.autograd.record():\n",
        "            output = net(*batch[:-1])\n",
        "            loss = l2_loss(output, batch[-1])\n",
        "            # loss = huber_loss(output, batch[-1])\n",
        "        loss.backward()\n",
        "        # update parameters\n",
        "        trainer.step(batch_size)\n",
        "        # calculate training metrics\n",
        "        cur_loss = loss.mean().asscalar()\n",
        "        mean_abs_error = (output - batch[-1]).abs().mean().asscalar() * 3600\n",
        "        rmse = np.sqrt(((output - batch[-1])**2).mean().asscalar())\n",
        "        train_loss += cur_loss / num_batches\n",
        "        sw.add_scalar('mean_abs_error', mean_abs_error, global_step)\n",
        "        sw.add_scalar('loss', cur_loss, global_step)\n",
        "        sw.add_scalar('RMSE',rmse, global_step)\n",
        "        global_step += 1\n",
        "    filename = \"./epoch_today_{}.params\".format(epoch)\n",
        "    net.save_parameters(filename)\n",
        "    print(\"Epoch %d: loss %.3f in %.1f sec\" % (epoch, train_loss, time.time()-tic))"
      ],
      "execution_count": 0,
      "outputs": [
        {
          "output_type": "display_data",
          "data": {
            "application/vnd.jupyter.widget-view+json": {
              "model_id": "f32fece70a4e46039cb2927d5d4e9b27",
              "version_major": 2,
              "version_minor": 0
            },
            "text/plain": [
              "HBox(children=(IntProgress(value=0, max=786761), HTML(value='')))"
            ]
          },
          "metadata": {
            "tags": []
          }
        },
        {
          "output_type": "error",
          "ename": "KeyboardInterrupt",
          "evalue": "",
          "traceback": [
            "\u001b[0;31m---------------------------------------------------------------------------\u001b[0m",
            "\u001b[0;31mKeyboardInterrupt\u001b[0m                         Traceback (most recent call last)",
            "\u001b[0;32m<ipython-input-19-76aa559637d8>\u001b[0m in \u001b[0;36m<module>\u001b[0;34m()\u001b[0m\n\u001b[1;32m     26\u001b[0m         \u001b[0;31m# calculate training metrics\u001b[0m\u001b[0;34m\u001b[0m\u001b[0;34m\u001b[0m\u001b[0m\n\u001b[1;32m     27\u001b[0m         \u001b[0;31m# print(loss.mean().asscalar())\u001b[0m\u001b[0;34m\u001b[0m\u001b[0;34m\u001b[0m\u001b[0m\n\u001b[0;32m---> 28\u001b[0;31m         \u001b[0mcur_loss\u001b[0m \u001b[0;34m=\u001b[0m \u001b[0mloss\u001b[0m\u001b[0;34m.\u001b[0m\u001b[0mmean\u001b[0m\u001b[0;34m(\u001b[0m\u001b[0;34m)\u001b[0m\u001b[0;34m.\u001b[0m\u001b[0masscalar\u001b[0m\u001b[0;34m(\u001b[0m\u001b[0;34m)\u001b[0m\u001b[0;34m\u001b[0m\u001b[0m\n\u001b[0m\u001b[1;32m     29\u001b[0m         \u001b[0mmean_abs_error\u001b[0m \u001b[0;34m=\u001b[0m \u001b[0;34m(\u001b[0m\u001b[0moutput\u001b[0m \u001b[0;34m-\u001b[0m \u001b[0mbatch\u001b[0m\u001b[0;34m[\u001b[0m\u001b[0;34m-\u001b[0m\u001b[0;36m1\u001b[0m\u001b[0;34m]\u001b[0m\u001b[0;34m)\u001b[0m\u001b[0;34m.\u001b[0m\u001b[0mabs\u001b[0m\u001b[0;34m(\u001b[0m\u001b[0;34m)\u001b[0m\u001b[0;34m.\u001b[0m\u001b[0mmean\u001b[0m\u001b[0;34m(\u001b[0m\u001b[0;34m)\u001b[0m\u001b[0;34m.\u001b[0m\u001b[0masscalar\u001b[0m\u001b[0;34m(\u001b[0m\u001b[0;34m)\u001b[0m \u001b[0;34m*\u001b[0m \u001b[0;36m3600\u001b[0m\u001b[0;34m\u001b[0m\u001b[0m\n\u001b[1;32m     30\u001b[0m         \u001b[0mrmse\u001b[0m \u001b[0;34m=\u001b[0m \u001b[0mnp\u001b[0m\u001b[0;34m.\u001b[0m\u001b[0msqrt\u001b[0m\u001b[0;34m(\u001b[0m\u001b[0;34m(\u001b[0m\u001b[0;34m(\u001b[0m\u001b[0moutput\u001b[0m \u001b[0;34m-\u001b[0m \u001b[0mbatch\u001b[0m\u001b[0;34m[\u001b[0m\u001b[0;34m-\u001b[0m\u001b[0;36m1\u001b[0m\u001b[0;34m]\u001b[0m\u001b[0;34m)\u001b[0m\u001b[0;34m**\u001b[0m\u001b[0;36m2\u001b[0m\u001b[0;34m)\u001b[0m\u001b[0;34m.\u001b[0m\u001b[0mmean\u001b[0m\u001b[0;34m(\u001b[0m\u001b[0;34m)\u001b[0m\u001b[0;34m.\u001b[0m\u001b[0masscalar\u001b[0m\u001b[0;34m(\u001b[0m\u001b[0;34m)\u001b[0m\u001b[0;34m)\u001b[0m\u001b[0;34m\u001b[0m\u001b[0m\n",
            "\u001b[0;32m~/anaconda3/lib/python3.6/site-packages/mxnet/ndarray/ndarray.py\u001b[0m in \u001b[0;36masscalar\u001b[0;34m(self)\u001b[0m\n\u001b[1;32m   2012\u001b[0m         \u001b[0;32mif\u001b[0m \u001b[0mself\u001b[0m\u001b[0;34m.\u001b[0m\u001b[0mshape\u001b[0m \u001b[0;34m!=\u001b[0m \u001b[0;34m(\u001b[0m\u001b[0;36m1\u001b[0m\u001b[0;34m,\u001b[0m\u001b[0;34m)\u001b[0m\u001b[0;34m:\u001b[0m\u001b[0;34m\u001b[0m\u001b[0m\n\u001b[1;32m   2013\u001b[0m             \u001b[0;32mraise\u001b[0m \u001b[0mValueError\u001b[0m\u001b[0;34m(\u001b[0m\u001b[0;34m\"The current array is not a scalar\"\u001b[0m\u001b[0;34m)\u001b[0m\u001b[0;34m\u001b[0m\u001b[0m\n\u001b[0;32m-> 2014\u001b[0;31m         \u001b[0;32mreturn\u001b[0m \u001b[0mself\u001b[0m\u001b[0;34m.\u001b[0m\u001b[0masnumpy\u001b[0m\u001b[0;34m(\u001b[0m\u001b[0;34m)\u001b[0m\u001b[0;34m[\u001b[0m\u001b[0;36m0\u001b[0m\u001b[0;34m]\u001b[0m\u001b[0;34m\u001b[0m\u001b[0m\n\u001b[0m\u001b[1;32m   2015\u001b[0m \u001b[0;34m\u001b[0m\u001b[0m\n\u001b[1;32m   2016\u001b[0m     \u001b[0;32mdef\u001b[0m \u001b[0mastype\u001b[0m\u001b[0;34m(\u001b[0m\u001b[0mself\u001b[0m\u001b[0;34m,\u001b[0m \u001b[0mdtype\u001b[0m\u001b[0;34m,\u001b[0m \u001b[0mcopy\u001b[0m\u001b[0;34m=\u001b[0m\u001b[0;32mTrue\u001b[0m\u001b[0;34m)\u001b[0m\u001b[0;34m:\u001b[0m\u001b[0;34m\u001b[0m\u001b[0m\n",
            "\u001b[0;32m~/anaconda3/lib/python3.6/site-packages/mxnet/ndarray/ndarray.py\u001b[0m in \u001b[0;36masnumpy\u001b[0;34m(self)\u001b[0m\n\u001b[1;32m   1994\u001b[0m             \u001b[0mself\u001b[0m\u001b[0;34m.\u001b[0m\u001b[0mhandle\u001b[0m\u001b[0;34m,\u001b[0m\u001b[0;34m\u001b[0m\u001b[0m\n\u001b[1;32m   1995\u001b[0m             \u001b[0mdata\u001b[0m\u001b[0;34m.\u001b[0m\u001b[0mctypes\u001b[0m\u001b[0;34m.\u001b[0m\u001b[0mdata_as\u001b[0m\u001b[0;34m(\u001b[0m\u001b[0mctypes\u001b[0m\u001b[0;34m.\u001b[0m\u001b[0mc_void_p\u001b[0m\u001b[0;34m)\u001b[0m\u001b[0;34m,\u001b[0m\u001b[0;34m\u001b[0m\u001b[0m\n\u001b[0;32m-> 1996\u001b[0;31m             ctypes.c_size_t(data.size)))\n\u001b[0m\u001b[1;32m   1997\u001b[0m         \u001b[0;32mreturn\u001b[0m \u001b[0mdata\u001b[0m\u001b[0;34m\u001b[0m\u001b[0m\n\u001b[1;32m   1998\u001b[0m \u001b[0;34m\u001b[0m\u001b[0m\n",
            "\u001b[0;31mKeyboardInterrupt\u001b[0m: "
          ]
        }
      ]
    },
    {
      "cell_type": "code",
      "metadata": {
        "id": "nRl8vgOZWQSd",
        "colab_type": "code",
        "colab": {}
      },
      "source": [
        "net.save_parameters('today.params')"
      ],
      "execution_count": 0,
      "outputs": []
    },
    {
      "cell_type": "code",
      "metadata": {
        "id": "MG8GYUVGWQSf",
        "colab_type": "code",
        "colab": {},
        "outputId": "88ac73a4-7d0d-4304-d330-65688baa3ef8"
      },
      "source": [
        "from sklearn.metrics import mean_absolute_error\n",
        "def fit_and_test(model, X, y, metric=mean_absolute_error):\n",
        "    '''\n",
        "    Fit the model and test the performance on the training set\n",
        "    '''\n",
        "    model.fit(X, y)\n",
        "    y_pred = model.predict(X)\n",
        "    print(type(model))\n",
        "    print(metric(y, y_pred) * 3600)\n",
        "    return model\n",
        "linear_reg = fit_and_test(sklearn.linear_model.LinearRegression(), train_data[0], train_labels)"
      ],
      "execution_count": 0,
      "outputs": [
        {
          "output_type": "stream",
          "text": [
            "<class 'sklearn.linear_model.base.LinearRegression'>\n",
            "434.6104234457016\n"
          ],
          "name": "stdout"
        }
      ]
    },
    {
      "cell_type": "code",
      "metadata": {
        "id": "uyD6Jj6qWQSi",
        "colab_type": "code",
        "colab": {}
      },
      "source": [
        ""
      ],
      "execution_count": 0,
      "outputs": []
    }
  ]
}